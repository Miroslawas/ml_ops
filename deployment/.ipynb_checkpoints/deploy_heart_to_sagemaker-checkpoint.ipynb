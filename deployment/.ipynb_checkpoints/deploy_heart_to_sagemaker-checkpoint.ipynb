{
 "cells": [
  {
   "cell_type": "code",
   "execution_count": 5,
   "metadata": {},
   "outputs": [
    {
     "name": "stdout",
     "output_type": "stream",
     "text": [
      "Requirement already satisfied: boto3 in /Users/laurynas/development/virtual-environments/sagemaker_docker_rest/lib/python3.7/site-packages (1.17.2)\n",
      "Requirement already satisfied: numpy in /Users/laurynas/development/virtual-environments/sagemaker_docker_rest/lib/python3.7/site-packages (1.20.0)\n",
      "Requirement already satisfied: pandas in /Users/laurynas/development/virtual-environments/sagemaker_docker_rest/lib/python3.7/site-packages (1.2.1)\n",
      "Requirement already satisfied: sagemaker in /Users/laurynas/development/virtual-environments/sagemaker_docker_rest/lib/python3.7/site-packages (2.24.3)\n",
      "Requirement already satisfied: botocore<1.21.0,>=1.20.2 in /Users/laurynas/development/virtual-environments/sagemaker_docker_rest/lib/python3.7/site-packages (from boto3) (1.20.2)\n",
      "Requirement already satisfied: jmespath<1.0.0,>=0.7.1 in /Users/laurynas/development/virtual-environments/sagemaker_docker_rest/lib/python3.7/site-packages (from boto3) (0.10.0)\n",
      "Requirement already satisfied: s3transfer<0.4.0,>=0.3.0 in /Users/laurynas/development/virtual-environments/sagemaker_docker_rest/lib/python3.7/site-packages (from boto3) (0.3.4)\n",
      "Requirement already satisfied: python-dateutil<3.0.0,>=2.1 in /Users/laurynas/development/virtual-environments/sagemaker_docker_rest/lib/python3.7/site-packages (from botocore<1.21.0,>=1.20.2->boto3) (2.8.1)\n",
      "Requirement already satisfied: urllib3<1.27,>=1.25.4 in /Users/laurynas/development/virtual-environments/sagemaker_docker_rest/lib/python3.7/site-packages (from botocore<1.21.0,>=1.20.2->boto3) (1.26.3)\n",
      "Requirement already satisfied: six>=1.5 in /Users/laurynas/development/virtual-environments/sagemaker_docker_rest/lib/python3.7/site-packages (from python-dateutil<3.0.0,>=2.1->botocore<1.21.0,>=1.20.2->boto3) (1.15.0)\n",
      "Requirement already satisfied: pytz>=2017.3 in /Users/laurynas/development/virtual-environments/sagemaker_docker_rest/lib/python3.7/site-packages (from pandas) (2021.1)\n",
      "Requirement already satisfied: importlib-metadata>=1.4.0 in /Users/laurynas/development/virtual-environments/sagemaker_docker_rest/lib/python3.7/site-packages (from sagemaker) (3.4.0)\n",
      "Requirement already satisfied: smdebug-rulesconfig==1.0.1 in /Users/laurynas/development/virtual-environments/sagemaker_docker_rest/lib/python3.7/site-packages (from sagemaker) (1.0.1)\n",
      "Requirement already satisfied: protobuf>=3.1 in /Users/laurynas/development/virtual-environments/sagemaker_docker_rest/lib/python3.7/site-packages (from sagemaker) (3.14.0)\n",
      "Requirement already satisfied: protobuf3-to-dict>=0.1.5 in /Users/laurynas/development/virtual-environments/sagemaker_docker_rest/lib/python3.7/site-packages (from sagemaker) (0.1.5)\n",
      "Requirement already satisfied: attrs in /Users/laurynas/development/virtual-environments/sagemaker_docker_rest/lib/python3.7/site-packages (from sagemaker) (20.3.0)\n",
      "Requirement already satisfied: packaging>=20.0 in /Users/laurynas/development/virtual-environments/sagemaker_docker_rest/lib/python3.7/site-packages (from sagemaker) (20.9)\n",
      "Requirement already satisfied: google-pasta in /Users/laurynas/development/virtual-environments/sagemaker_docker_rest/lib/python3.7/site-packages (from sagemaker) (0.2.0)\n",
      "Requirement already satisfied: zipp>=0.5 in /Users/laurynas/development/virtual-environments/sagemaker_docker_rest/lib/python3.7/site-packages (from importlib-metadata>=1.4.0->sagemaker) (3.4.0)\n",
      "Requirement already satisfied: typing-extensions>=3.6.4 in /Users/laurynas/development/virtual-environments/sagemaker_docker_rest/lib/python3.7/site-packages (from importlib-metadata>=1.4.0->sagemaker) (3.7.4.3)\n",
      "Requirement already satisfied: pyparsing>=2.0.2 in /Users/laurynas/development/virtual-environments/sagemaker_docker_rest/lib/python3.7/site-packages (from packaging>=20.0->sagemaker) (2.4.7)\n"
     ]
    }
   ],
   "source": [
    "!pip install boto3 numpy pandas sagemaker"
   ]
  },
  {
   "cell_type": "code",
   "execution_count": null,
   "metadata": {},
   "outputs": [],
   "source": [
    "# S3 prefix\n",
    "prefix = 'heart-sagemaker-demo'\n",
    "\n",
    "# Define IAM role\n",
    "import boto3\n",
    "import re\n",
    "\n",
    "import os\n",
    "import numpy as np\n",
    "import pandas as pd\n",
    "from sagemaker import get_execution_role\n",
    "\n",
    "import sagemaker as sage\n",
    "from time import gmtime, strftime\n",
    "\n",
    "\n",
    "role = get_execution_role()\n",
    "sess = sage.Session()"
   ]
  },
  {
   "cell_type": "code",
   "execution_count": 8,
   "metadata": {},
   "outputs": [],
   "source": [
    "WORK_DIRECTORY = 'data'\n",
    "\n",
    "data_location = sess.upload_data(WORK_DIRECTORY, key_prefix=prefix)"
   ]
  },
  {
   "cell_type": "code",
   "execution_count": 9,
   "metadata": {},
   "outputs": [],
   "source": [
    "import json \n",
    "\n",
    "with open('../src/params.json') as in_str:\n",
    "    hyperparams = json.loads(in_str.read())"
   ]
  },
  {
   "cell_type": "code",
   "execution_count": 10,
   "metadata": {},
   "outputs": [
    {
     "data": {
      "text/plain": [
       "{'model_params': {'iterations': 1000,\n",
       "  'eval_metric': 'PRAUC',\n",
       "  'early_stopping_rounds': 40},\n",
       " 'data_params': {'pos_class': 1,\n",
       "  'cat_features': ['sex',\n",
       "   'chest-pain-type',\n",
       "   'fasting-blood-sugar',\n",
       "   'resting-ecg',\n",
       "   'exercise-angina',\n",
       "   'slope',\n",
       "   'colored-vessels',\n",
       "   'thal',\n",
       "   'datetime',\n",
       "   'postalcode'],\n",
       "  'target': 'narrowing-diagnosis',\n",
       "  'metrics': ['roc_auc', 'accuracy', 'lift', 'hosmer_lemeshow']}}"
      ]
     },
     "execution_count": 10,
     "metadata": {},
     "output_type": "execute_result"
    }
   ],
   "source": [
    "hyperparams"
   ]
  },
  {
   "cell_type": "code",
   "execution_count": 11,
   "metadata": {},
   "outputs": [],
   "source": [
    "hyperparams['debug'] = True"
   ]
  },
  {
   "cell_type": "code",
   "execution_count": null,
   "metadata": {},
   "outputs": [],
   "source": [
    "# can be used in training job anad later to be viewed in training analytics output\n",
    "metric_definitions = [\n",
    "    {\n",
    "        \"Name\": \"roc_auc\",\n",
    "        \"Regex\": \"roc_auc=(.*?)\",\n",
    "    },\n",
    "    {\n",
    "        \"Name\": \"accuracy\",\n",
    "        \"Regex\": \"accuracy=(.*?);\",\n",
    "    },\n",
    "    {\n",
    "        \"Name\": \"lift\",\n",
    "        \"Regex\": \"lift=(.*?);\",\n",
    "    },\n",
    "    {\n",
    "        \"Name\": \"hosmer_lemeshow\",\n",
    "        \"Regex\": \"hosmer_lemeshow=(.*?);\",\n",
    "    },\n",
    "]"
   ]
  },
  {
   "cell_type": "code",
   "execution_count": 24,
   "metadata": {},
   "outputs": [],
   "source": [
    "# account = sess.boto_session.client('sts').get_caller_identity()['Account']\n",
    "# region = sess.boto_session.region_name\n",
    "# image = '{}.dkr.ecr.{}.amazonaws.com/heart:latest'.format(account, region)\n",
    "\n",
    "# tree = sage.estimator.Estimator(image,\n",
    "#                                 role, 1, 'ml.c4.2xlarge',\n",
    "#                                 output_path=\"s3://{}/output\".format(sess.default_bucket()),\n",
    "#                                 sagemaker_session=sess,\n",
    "#                                 tags=[{'Key': 'CostGroup', 'Value': 'DEV-TA-ANALYTICS'}],\n",
    "#                                 )\n",
    "\n",
    "# tree.fit(data_location, {'training': data_location})\n",
    "# # tree.fit(data_location, {'train': data_location})"
   ]
  },
  {
   "cell_type": "code",
   "execution_count": null,
   "metadata": {},
   "outputs": [],
   "source": [
    "# tree"
   ]
  },
  {
   "cell_type": "code",
   "execution_count": 14,
   "metadata": {},
   "outputs": [
    {
     "name": "stdout",
     "output_type": "stream",
     "text": [
      "-------------!"
     ]
    }
   ],
   "source": [
    "from sagemaker.predictor import csv_serializer\n",
    "predictor = tree.deploy(1, 'ml.m4.xlarge', serializer=csv_serializer)"
   ]
  },
  {
   "cell_type": "code",
   "execution_count": 20,
   "metadata": {},
   "outputs": [
    {
     "name": "stdout",
     "output_type": "stream",
     "text": [
      "\n",
      "2021-02-11 09:08:13 Starting - Preparing the instances for training\n",
      "2021-02-11 09:08:13 Downloading - Downloading input data\n",
      "2021-02-11 09:08:13 Training - Training image download completed. Training in progress.\n",
      "2021-02-11 09:08:13 Uploading - Uploading generated training model\n",
      "2021-02-11 09:08:13 Completed - Training job completed\n"
     ]
    }
   ],
   "source": [
    "estimator = sage.estimator.Estimator.attach('heart-release-demo-2021-02-11-09-03-25-738')\n",
    "output_path=\"s3://{}/{}\".format(sess.default_bucket(), 'po123-out')"
   ]
  },
  {
   "cell_type": "code",
   "execution_count": 21,
   "metadata": {},
   "outputs": [],
   "source": [
    "transformer = estimator.transformer(instance_count=1,\n",
    "                               instance_type='ml.m4.xlarge',\n",
    "                               output_path=output_path,\n",
    "                               assemble_with='Line',\n",
    "                               accept='text/csv')"
   ]
  },
  {
   "cell_type": "code",
   "execution_count": 22,
   "metadata": {},
   "outputs": [],
   "source": [
    "data_location = sess.upload_data('data', key_prefix='p123')"
   ]
  },
  {
   "cell_type": "code",
   "execution_count": 23,
   "metadata": {},
   "outputs": [
    {
     "name": "stdout",
     "output_type": "stream",
     "text": [
      "...........................\n",
      "\u001b[32m2021-02-11T12:08:58.018:[sagemaker logs]: MaxConcurrentTransforms=1, MaxPayloadInMB=6, BatchStrategy=MULTI_RECORD\u001b[0m\n",
      "\u001b[34mStarting the inference server with 4 workers.\u001b[0m\n",
      "\u001b[34m2021/02/11 12:08:57 [crit] 10#10: *1 connect() to unix:/tmp/gunicorn.sock failed (2: No such file or directory) while connecting to upstream, client: 169.254.255.130, server: , request: \"GET /ping HTTP/1.1\", upstream: \"http://unix:/tmp/gunicorn.sock:/ping\", host: \"169.254.255.131:8080\"\u001b[0m\n",
      "\u001b[34m169.254.255.130 - - [11/Feb/2021:12:08:57 +0000] \"GET /ping HTTP/1.1\" 502 173 \"-\" \"Go-http-client/1.1\"\u001b[0m\n",
      "\u001b[34m169.254.255.130 - - [11/Feb/2021:12:08:57 +0000] \"GET /ping HTTP/1.1\" 502 173 \"-\" \"Go-http-client/1.1\"\u001b[0m\n",
      "\u001b[34m2021/02/11 12:08:57 [crit] 10#10: *3 connect() to unix:/tmp/gunicorn.sock failed (2: No such file or directory) while connecting to upstream, client: 169.254.255.130, server: , request: \"GET /ping HTTP/1.1\", upstream: \"http://unix:/tmp/gunicorn.sock:/ping\", host: \"169.254.255.131:8080\"\u001b[0m\n",
      "\u001b[35mStarting the inference server with 4 workers.\u001b[0m\n",
      "\u001b[35m2021/02/11 12:08:57 [crit] 10#10: *1 connect() to unix:/tmp/gunicorn.sock failed (2: No such file or directory) while connecting to upstream, client: 169.254.255.130, server: , request: \"GET /ping HTTP/1.1\", upstream: \"http://unix:/tmp/gunicorn.sock:/ping\", host: \"169.254.255.131:8080\"\u001b[0m\n",
      "\u001b[35m169.254.255.130 - - [11/Feb/2021:12:08:57 +0000] \"GET /ping HTTP/1.1\" 502 173 \"-\" \"Go-http-client/1.1\"\u001b[0m\n",
      "\u001b[35m169.254.255.130 - - [11/Feb/2021:12:08:57 +0000] \"GET /ping HTTP/1.1\" 502 173 \"-\" \"Go-http-client/1.1\"\u001b[0m\n",
      "\u001b[35m2021/02/11 12:08:57 [crit] 10#10: *3 connect() to unix:/tmp/gunicorn.sock failed (2: No such file or directory) while connecting to upstream, client: 169.254.255.130, server: , request: \"GET /ping HTTP/1.1\", upstream: \"http://unix:/tmp/gunicorn.sock:/ping\", host: \"169.254.255.131:8080\"\u001b[0m\n",
      "\u001b[34m[2021-02-11 12:08:57 +0000] [9] [INFO] Starting gunicorn 20.0.4\u001b[0m\n",
      "\u001b[34m[2021-02-11 12:08:57 +0000] [9] [INFO] Listening at: unix:/tmp/gunicorn.sock (9)\u001b[0m\n",
      "\u001b[34m[2021-02-11 12:08:57 +0000] [9] [INFO] Using worker: sync\u001b[0m\n",
      "\u001b[34m[2021-02-11 12:08:57 +0000] [13] [INFO] Booting worker with pid: 13\u001b[0m\n",
      "\u001b[34m[2021-02-11 12:08:57 +0000] [17] [INFO] Booting worker with pid: 17\u001b[0m\n",
      "\u001b[34m[2021-02-11 12:08:57 +0000] [18] [INFO] Booting worker with pid: 18\u001b[0m\n",
      "\u001b[34m[2021-02-11 12:08:57 +0000] [25] [INFO] Booting worker with pid: 25\u001b[0m\n",
      "\u001b[34m169.254.255.130 - - [11/Feb/2021:12:08:58 +0000] \"GET /ping HTTP/1.1\" 200 1 \"-\" \"Go-http-client/1.1\"\u001b[0m\n",
      "\u001b[34m169.254.255.130 - - [11/Feb/2021:12:08:58 +0000] \"GET /execution-parameters HTTP/1.1\" 404 2 \"-\" \"Go-http-client/1.1\"\u001b[0m\n",
      "\u001b[34mInvoked with 242 records\u001b[0m\n",
      "\u001b[34m169.254.255.130 - - [11/Feb/2021:12:08:58 +0000] \"POST /invocations HTTP/1.1\" 200 484 \"-\" \"Go-http-client/1.1\"\u001b[0m\n",
      "\u001b[34mInvoked with 242 records\u001b[0m\n",
      "\u001b[34m169.254.255.130 - - [11/Feb/2021:12:08:58 +0000] \"POST /invocations HTTP/1.1\" 200 484 \"-\" \"Go-http-client/1.1\"\u001b[0m\n",
      "\u001b[35m[2021-02-11 12:08:57 +0000] [9] [INFO] Starting gunicorn 20.0.4\u001b[0m\n",
      "\u001b[35m[2021-02-11 12:08:57 +0000] [9] [INFO] Listening at: unix:/tmp/gunicorn.sock (9)\u001b[0m\n",
      "\u001b[35m[2021-02-11 12:08:57 +0000] [9] [INFO] Using worker: sync\u001b[0m\n",
      "\u001b[35m[2021-02-11 12:08:57 +0000] [13] [INFO] Booting worker with pid: 13\u001b[0m\n",
      "\u001b[35m[2021-02-11 12:08:57 +0000] [17] [INFO] Booting worker with pid: 17\u001b[0m\n",
      "\u001b[35m[2021-02-11 12:08:57 +0000] [18] [INFO] Booting worker with pid: 18\u001b[0m\n",
      "\u001b[35m[2021-02-11 12:08:57 +0000] [25] [INFO] Booting worker with pid: 25\u001b[0m\n",
      "\u001b[35m169.254.255.130 - - [11/Feb/2021:12:08:58 +0000] \"GET /ping HTTP/1.1\" 200 1 \"-\" \"Go-http-client/1.1\"\u001b[0m\n",
      "\u001b[35m169.254.255.130 - - [11/Feb/2021:12:08:58 +0000] \"GET /execution-parameters HTTP/1.1\" 404 2 \"-\" \"Go-http-client/1.1\"\u001b[0m\n",
      "\u001b[35mInvoked with 242 records\u001b[0m\n",
      "\u001b[35m169.254.255.130 - - [11/Feb/2021:12:08:58 +0000] \"POST /invocations HTTP/1.1\" 200 484 \"-\" \"Go-http-client/1.1\"\u001b[0m\n",
      "\u001b[35mInvoked with 242 records\u001b[0m\n",
      "\u001b[35m169.254.255.130 - - [11/Feb/2021:12:08:58 +0000] \"POST /invocations HTTP/1.1\" 200 484 \"-\" \"Go-http-client/1.1\"\u001b[0m\n",
      "\u001b[32m2021-02-11T12:08:58.018:[sagemaker logs]: MaxConcurrentTransforms=1, MaxPayloadInMB=6, BatchStrategy=MULTI_RECORD\u001b[0m\n",
      "\u001b[34mStarting the inference server with 4 workers.\u001b[0m\n",
      "\u001b[34m2021/02/11 12:08:57 [crit] 10#10: *1 connect() to unix:/tmp/gunicorn.sock failed (2: No such file or directory) while connecting to upstream, client: 169.254.255.130, server: , request: \"GET /ping HTTP/1.1\", upstream: \"http://unix:/tmp/gunicorn.sock:/ping\", host: \"169.254.255.131:8080\"\u001b[0m\n",
      "\u001b[34m169.254.255.130 - - [11/Feb/2021:12:08:57 +0000] \"GET /ping HTTP/1.1\" 502 173 \"-\" \"Go-http-client/1.1\"\u001b[0m\n",
      "\u001b[34m169.254.255.130 - - [11/Feb/2021:12:08:57 +0000] \"GET /ping HTTP/1.1\" 502 173 \"-\" \"Go-http-client/1.1\"\u001b[0m\n",
      "\u001b[34m2021/02/11 12:08:57 [crit] 10#10: *3 connect() to unix:/tmp/gunicorn.sock failed (2: No such file or directory) while connecting to upstream, client: 169.254.255.130, server: , request: \"GET /ping HTTP/1.1\", upstream: \"http://unix:/tmp/gunicorn.sock:/ping\", host: \"169.254.255.131:8080\"\u001b[0m\n",
      "\u001b[35mStarting the inference server with 4 workers.\u001b[0m\n",
      "\u001b[35m2021/02/11 12:08:57 [crit] 10#10: *1 connect() to unix:/tmp/gunicorn.sock failed (2: No such file or directory) while connecting to upstream, client: 169.254.255.130, server: , request: \"GET /ping HTTP/1.1\", upstream: \"http://unix:/tmp/gunicorn.sock:/ping\", host: \"169.254.255.131:8080\"\u001b[0m\n",
      "\u001b[35m169.254.255.130 - - [11/Feb/2021:12:08:57 +0000] \"GET /ping HTTP/1.1\" 502 173 \"-\" \"Go-http-client/1.1\"\u001b[0m\n",
      "\u001b[35m169.254.255.130 - - [11/Feb/2021:12:08:57 +0000] \"GET /ping HTTP/1.1\" 502 173 \"-\" \"Go-http-client/1.1\"\u001b[0m\n",
      "\u001b[35m2021/02/11 12:08:57 [crit] 10#10: *3 connect() to unix:/tmp/gunicorn.sock failed (2: No such file or directory) while connecting to upstream, client: 169.254.255.130, server: , request: \"GET /ping HTTP/1.1\", upstream: \"http://unix:/tmp/gunicorn.sock:/ping\", host: \"169.254.255.131:8080\"\u001b[0m\n",
      "\u001b[34m[2021-02-11 12:08:57 +0000] [9] [INFO] Starting gunicorn 20.0.4\u001b[0m\n",
      "\u001b[34m[2021-02-11 12:08:57 +0000] [9] [INFO] Listening at: unix:/tmp/gunicorn.sock (9)\u001b[0m\n",
      "\u001b[34m[2021-02-11 12:08:57 +0000] [9] [INFO] Using worker: sync\u001b[0m\n",
      "\u001b[34m[2021-02-11 12:08:57 +0000] [13] [INFO] Booting worker with pid: 13\u001b[0m\n",
      "\u001b[34m[2021-02-11 12:08:57 +0000] [17] [INFO] Booting worker with pid: 17\u001b[0m\n",
      "\u001b[34m[2021-02-11 12:08:57 +0000] [18] [INFO] Booting worker with pid: 18\u001b[0m\n",
      "\u001b[34m[2021-02-11 12:08:57 +0000] [25] [INFO] Booting worker with pid: 25\u001b[0m\n",
      "\u001b[34m169.254.255.130 - - [11/Feb/2021:12:08:58 +0000] \"GET /ping HTTP/1.1\" 200 1 \"-\" \"Go-http-client/1.1\"\u001b[0m\n",
      "\u001b[34m169.254.255.130 - - [11/Feb/2021:12:08:58 +0000] \"GET /execution-parameters HTTP/1.1\" 404 2 \"-\" \"Go-http-client/1.1\"\u001b[0m\n",
      "\u001b[34mInvoked with 242 records\u001b[0m\n",
      "\u001b[34m169.254.255.130 - - [11/Feb/2021:12:08:58 +0000] \"POST /invocations HTTP/1.1\" 200 484 \"-\" \"Go-http-client/1.1\"\u001b[0m\n",
      "\u001b[34mInvoked with 242 records\u001b[0m\n",
      "\u001b[34m169.254.255.130 - - [11/Feb/2021:12:08:58 +0000] \"POST /invocations HTTP/1.1\" 200 484 \"-\" \"Go-http-client/1.1\"\u001b[0m\n",
      "\u001b[35m[2021-02-11 12:08:57 +0000] [9] [INFO] Starting gunicorn 20.0.4\u001b[0m\n",
      "\u001b[35m[2021-02-11 12:08:57 +0000] [9] [INFO] Listening at: unix:/tmp/gunicorn.sock (9)\u001b[0m\n",
      "\u001b[35m[2021-02-11 12:08:57 +0000] [9] [INFO] Using worker: sync\u001b[0m\n",
      "\u001b[35m[2021-02-11 12:08:57 +0000] [13] [INFO] Booting worker with pid: 13\u001b[0m\n",
      "\u001b[35m[2021-02-11 12:08:57 +0000] [17] [INFO] Booting worker with pid: 17\u001b[0m\n",
      "\u001b[35m[2021-02-11 12:08:57 +0000] [18] [INFO] Booting worker with pid: 18\u001b[0m\n",
      "\u001b[35m[2021-02-11 12:08:57 +0000] [25] [INFO] Booting worker with pid: 25\u001b[0m\n",
      "\u001b[35m169.254.255.130 - - [11/Feb/2021:12:08:58 +0000] \"GET /ping HTTP/1.1\" 200 1 \"-\" \"Go-http-client/1.1\"\u001b[0m\n",
      "\u001b[35m169.254.255.130 - - [11/Feb/2021:12:08:58 +0000] \"GET /execution-parameters HTTP/1.1\" 404 2 \"-\" \"Go-http-client/1.1\"\u001b[0m\n",
      "\u001b[35mInvoked with 242 records\u001b[0m\n",
      "\u001b[35m169.254.255.130 - - [11/Feb/2021:12:08:58 +0000] \"POST /invocations HTTP/1.1\" 200 484 \"-\" \"Go-http-client/1.1\"\u001b[0m\n",
      "\u001b[35mInvoked with 242 records\u001b[0m\n",
      "\u001b[35m169.254.255.130 - - [11/Feb/2021:12:08:58 +0000] \"POST /invocations HTTP/1.1\" 200 484 \"-\" \"Go-http-client/1.1\"\u001b[0m\n"
     ]
    }
   ],
   "source": [
    "transformer.transform(data_location, content_type='text/csv', split_type='Line', input_filter='$[:-1]', logs=True)\n",
    "transformer.wait()"
   ]
  },
  {
   "cell_type": "code",
   "execution_count": 47,
   "metadata": {},
   "outputs": [
    {
     "name": "stdout",
     "output_type": "stream",
     "text": [
      "Transform results: \n",
      "1\n",
      "1\n",
      "1\n",
      "1\n",
      "0\n",
      "1\n",
      "1\n",
      "0\n",
      "1\n",
      "1\n",
      "0\n",
      "0\n",
      "0\n",
      "0\n",
      "0\n",
      "1\n",
      "0\n",
      "1\n",
      "0\n",
      "1\n",
      "0\n",
      "0\n",
      "1\n",
      "0\n",
      "1\n",
      "1\n",
      "1\n",
      "1\n",
      "0\n",
      "0\n",
      "1\n",
      "0\n",
      "1\n",
      "1\n",
      "0\n",
      "0\n",
      "0\n",
      "0\n",
      "1\n",
      "0\n",
      "1\n",
      "1\n",
      "0\n",
      "1\n",
      "0\n",
      "1\n",
      "1\n",
      "1\n",
      "1\n",
      "0\n",
      "0\n",
      "0\n",
      "0\n",
      "0\n",
      "1\n",
      "0\n",
      "0\n",
      "0\n",
      "0\n",
      "0\n",
      "0\n",
      "\n"
     ]
    }
   ],
   "source": [
    "s3_client = sess.boto_session.client('s3')\n",
    "s3_client.download_file(sess.default_bucket(), \"{}/payload.csv.out\".format(transform_output_folder), '/tmp/payload.csv.out')\n",
    "with open('/tmp/payload.csv.out') as f:\n",
    "    results = f.readlines()   \n",
    "print(\"Transform results: \\n{}\".format(''.join(results)))"
   ]
  },
  {
   "cell_type": "code",
   "execution_count": null,
   "metadata": {},
   "outputs": [],
   "source": []
  }
 ],
 "metadata": {
  "kernelspec": {
   "display_name": "sagemaker-docker-rest",
   "language": "python",
   "name": "sagemaker-docker-rest"
  },
  "language_info": {
   "codemirror_mode": {
    "name": "ipython",
    "version": 3
   },
   "file_extension": ".py",
   "mimetype": "text/x-python",
   "name": "python",
   "nbconvert_exporter": "python",
   "pygments_lexer": "ipython3",
   "version": "3.7.9"
  }
 },
 "nbformat": 4,
 "nbformat_minor": 4
}
